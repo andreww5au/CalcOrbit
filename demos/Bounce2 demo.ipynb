{
 "cells": [
  {
   "cell_type": "markdown",
   "metadata": {},
   "source": [
    "**VPython physics demo - a bouncing ball**"
   ]
  },
  {
   "cell_type": "code",
   "execution_count": 1,
   "metadata": {},
   "outputs": [
    {
     "data": {
      "application/javascript": [
       "require.undef(\"nbextensions/jquery-ui.custom.min\");"
      ],
      "text/plain": [
       "<IPython.core.display.Javascript object>"
      ]
     },
     "metadata": {},
     "output_type": "display_data"
    },
    {
     "data": {
      "application/javascript": [
       "require.undef(\"nbextensions/glow.2.1.min\");"
      ],
      "text/plain": [
       "<IPython.core.display.Javascript object>"
      ]
     },
     "metadata": {},
     "output_type": "display_data"
    },
    {
     "data": {
      "application/javascript": [
       "require.undef(\"nbextensions/glowcomm\");"
      ],
      "text/plain": [
       "<IPython.core.display.Javascript object>"
      ]
     },
     "metadata": {},
     "output_type": "display_data"
    },
    {
     "data": {
      "application/javascript": [
       "require.undef(\"nbextensions/pako.min\");"
      ],
      "text/plain": [
       "<IPython.core.display.Javascript object>"
      ]
     },
     "metadata": {},
     "output_type": "display_data"
    },
    {
     "data": {
      "application/javascript": [
       "require.undef(\"nbextensions/pako_deflate.min\");"
      ],
      "text/plain": [
       "<IPython.core.display.Javascript object>"
      ]
     },
     "metadata": {},
     "output_type": "display_data"
    },
    {
     "data": {
      "application/javascript": [
       "require.undef(\"nbextensions/pako_inflate.min\");"
      ],
      "text/plain": [
       "<IPython.core.display.Javascript object>"
      ]
     },
     "metadata": {},
     "output_type": "display_data"
    },
    {
     "data": {
      "application/javascript": [
       "require([\"nbextensions/glowcomm\"], function(){console.log(\"glowcomm loaded\");})"
      ],
      "text/plain": [
       "<IPython.core.display.Javascript object>"
      ]
     },
     "metadata": {},
     "output_type": "display_data"
    },
    {
     "data": {
      "text/html": [
       "<div id=\"glowscript\" class=\"glowscript\"></div>"
      ],
      "text/plain": [
       "<IPython.core.display.HTML object>"
      ]
     },
     "metadata": {},
     "output_type": "display_data"
    },
    {
     "data": {
      "application/javascript": [
       "window.__context = { glowscript_container: $(\"#glowscript\").removeAttr(\"id\")}"
      ],
      "text/plain": [
       "<IPython.core.display.Javascript object>"
      ]
     },
     "metadata": {},
     "output_type": "display_data"
    },
    {
     "data": {
      "text/html": [
       "<div id=\"glowscript\" class=\"glowscript\"></div>"
      ],
      "text/plain": [
       "<IPython.core.display.HTML object>"
      ]
     },
     "metadata": {},
     "output_type": "display_data"
    },
    {
     "data": {
      "application/javascript": [
       "window.__context = { glowscript_container: $(\"#glowscript\").removeAttr(\"id\")}"
      ],
      "text/plain": [
       "<IPython.core.display.Javascript object>"
      ]
     },
     "metadata": {},
     "output_type": "display_data"
    }
   ],
   "source": [
    "# Import vpython, and the vpython.vector object as 'v', to save typing\n",
    "import time\n",
    "import vpython\n",
    "from vpython import vector as v\n",
    "\n",
    "# Create a 'scene' window with the desired dimensions\n",
    "scene = vpython.canvas(title=\"Bounce\", width=400, height=400)"
   ]
  },
  {
   "cell_type": "code",
   "execution_count": null,
   "metadata": {},
   "outputs": [],
   "source": [
    "# Simple demo - move the ball up and down at a constant speed.\n",
    "\n",
    "# Create a yellow ball, 1m in diameter, sitting 10m above the ground plane \n",
    "ball = vpython.sphere(pos=v(0, 10, 0), radius=0.5, color=vpython.color.yellow)\n",
    "\n",
    "# Create a blue floor, 10m x 10m, 1m thick, sitting just below the ground plane\n",
    "floor = vpython.box(pos=v(0, -0.5, 0), length=10, width=10, height=1, color=vpython.color.blue)\n",
    "\n",
    "vpython.sleep(4.0)\n",
    "\n",
    "velocity = -4.0    # in metres/second, negative means downwards\n",
    "timestep = 0.01    # New frame every 10 milliseconds\n",
    "\n",
    "while True:\n",
    "    ball.pos.y += velocity * timestep    # Every frame, move the ball by a fraction of the velocity in m/s\n",
    "    \n",
    "    if (ball.pos.y <= 0.5) or (ball.pos.y >= 10.0):  # If the ball is at the top or bottom\n",
    "        velocity = -velocity             # reverse the direction of motion\n",
    "        \n",
    "    time.sleep(timestep)"
   ]
  },
  {
   "cell_type": "code",
   "execution_count": null,
   "metadata": {},
   "outputs": [],
   "source": [
    "# Next step - use real physics. Add the gravitational accelleration g=9.8 m/s2 to the velocity, every second.\n",
    "\n",
    "# Create a yellow ball, 1m in diameter, sitting 10m above the ground plane \n",
    "ball = vpython.sphere(pos=v(0, 10, 0), radius=0.5, color=vpython.color.yellow)\n",
    "\n",
    "# Create a blue floor, 10m x 10m, 1m thick, sitting just below the ground plane\n",
    "floor = vpython.box(pos=v(0, -0.5, 0), length=10, width=10, height=1, color=vpython.color.blue)\n",
    "\n",
    "vpython.sleep(4.0)\n",
    "\n",
    "velocity = 0.0     # start out motionless\n",
    "g = -9.8           # accelleration (change in velocity), in metres per second, per second.\n",
    "timestep = 0.01    # New frame every 10 milliseconds\n",
    "\n",
    "while True:\n",
    "    ball.pos.y += velocity * timestep    # Every frame, move the ball by a fraction of the velocity in m/s\n",
    "\n",
    "    if ball.pos.y <= 0.5:      # If the ball is touching the ground\n",
    "        velocity = -velocity     # start going up\n",
    "    else:\n",
    "        velocity += g * timestep    # Add a fraction of the acceleration to the velocity every frame\n",
    "        \n",
    "    time.sleep(timestep)"
   ]
  },
  {
   "cell_type": "code",
   "execution_count": null,
   "metadata": {
    "collapsed": true
   },
   "outputs": [],
   "source": [
    "# Next step - same physics, but use an attribute on the 'ball' object to store the velocity.\n",
    "\n",
    "# Create a yellow ball, 1m in diameter, sitting 10m above the ground plane \n",
    "ball = vpython.sphere(pos=v(0, 10, 0), radius=0.5, color=vpython.color.yellow)\n",
    "\n",
    "# Create a blue floor, 10m x 10m, 1m thick, sitting just below the ground plane\n",
    "floor = vpython.box(pos=v(0, -0.5, 0), length=10, width=10, height=1, color=vpython.color.blue)\n",
    "\n",
    "vpython.sleep(4.0)\n",
    "\n",
    "g = -9.8           # accelleration (change in velocity), in metres per second, per second.\n",
    "timestep = 0.01    # New frame every 10 milliseconds\n",
    "\n",
    "ball.velocity = 0.0    # start out motionless. The name 'velocity' is completely arbitrary.\n",
    "\n",
    "while True:\n",
    "    ball.pos.y += ball.velocity * timestep    # Every frame, move the ball by a fraction of the velocity in m/s\n",
    "\n",
    "    if ball.pos.y <= 0.5:      # If the ball is touching the ground\n",
    "        ball.velocity = -ball.velocity     # start going up\n",
    "    else:\n",
    "        ball.velocity += g * timestep    # Add a fraction of the acceleration (in m/s2) every frame\n",
    "        \n",
    "    time.sleep(timestep)"
   ]
  },
  {
   "cell_type": "code",
   "execution_count": null,
   "metadata": {
    "collapsed": true
   },
   "outputs": [],
   "source": [
    "# Add a second ball, and keep track of both velocities\n",
    "\n",
    "# Create two balls, 1m in diameter, sitting 10m and 12m above the ground plane \n",
    "ball = vpython.sphere(pos=v(0, 10, 0), radius=0.5, color=vpython.color.yellow)\n",
    "ball2 = vpython.sphere(pos=v(2, 12, 0), radius=0.5, color=vpython.color.red)\n",
    "\n",
    "# Create a blue floor, 10m x 10m, 1m thick, sitting just below the ground plane\n",
    "floor = vpython.box(pos=v(0, -0.5, 0), length=10, width=10, height=1, color=vpython.color.blue)\n",
    "\n",
    "vpython.sleep(4.0)\n",
    "\n",
    "g = -9.8           # accelleration (change in velocity), in metres per second, per second.\n",
    "timestep = 0.01    # New frame every 10 milliseconds\n",
    "\n",
    "ball.velocity = 0.0    # start out motionless.\n",
    "ball2.velocity = 0.0    # start out motionless.\n",
    "\n",
    "while True:\n",
    "    ball.pos.y += ball.velocity * timestep    # Every frame, move the ball by a fraction of the velocity in m/s\n",
    "    \n",
    "    ball2.pos.y += ball2.velocity * timestep    # Every frame, move the ball by a fraction of the velocity in m/s\n",
    "\n",
    "    if ball.pos.y <= 0.5:      # If the ball is touching the ground\n",
    "        ball.velocity = -ball.velocity     # start going up\n",
    "    else:\n",
    "        ball.velocity += g * timestep    # Add a fraction of the acceleration (in m/s2) every frame\n",
    "        \n",
    "    if ball2.pos.y <= 0.5:      # If the ball is touching the ground\n",
    "        ball2.velocity = -ball2.velocity     # start going up\n",
    "    else:\n",
    "        ball2.velocity += g * timestep    # Add a fraction of the acceleration (in m/s2) every frame\n",
    "        \n",
    "    time.sleep(timestep)"
   ]
  },
  {
   "cell_type": "code",
   "execution_count": null,
   "metadata": {
    "collapsed": true
   },
   "outputs": [],
   "source": [
    "# Make the velocity and acceleration vectors, and add a bit of sideways motion in the X direction.\n",
    "\n",
    "# Create a yellow ball, 1m in diameter, sitting 10m above the ground plane on the left hand edge\n",
    "ball = vpython.sphere(pos=v(-5.0, 10, 0), radius=0.5, color=vpython.color.yellow)\n",
    "\n",
    "# Create a blue floor, 10m x 10m, 1m thick, sitting just below the ground plane\n",
    "floor = vpython.box(pos=v(0, -0.5, 0), length=10, width=10, height=1, color=vpython.color.blue)\n",
    "\n",
    "vpython.sleep(4.0)\n",
    "\n",
    "g = v(0, -9.8, 0)  # accelleration (change in velocity), in metres per second, per second.\n",
    "timestep = 0.01    # New frame every 10 milliseconds\n",
    "\n",
    "ball.velocity = v(1.0, 0, 0)  # start out motionless vertically, but moving 1.0 m/s to the right\n",
    "\n",
    "while True:\n",
    "    ball.pos += ball.velocity * timestep    # Every frame, move the ball by a fraction of the velocity in m/s\n",
    "\n",
    "    if (ball.pos.y <= 0.5) and (ball.pos.x < 5.0):      # If the ball is touching the floor\n",
    "        ball.velocity.y = -ball.velocity.y     # Reverse vertical component of velocity\n",
    "    else:\n",
    "        ball.velocity += g * timestep    # Add a fraction of the acceleration (in m/s2) every frame\n",
    "        \n",
    "    time.sleep(timestep)"
   ]
  },
  {
   "cell_type": "code",
   "execution_count": null,
   "metadata": {
    "collapsed": true
   },
   "outputs": [],
   "source": []
  }
 ],
 "metadata": {
  "kernelspec": {
   "display_name": "VPython",
   "language": "python",
   "name": "vpython"
  },
  "language_info": {
   "codemirror_mode": {
    "name": "ipython",
    "version": 2
   },
   "file_extension": ".py",
   "mimetype": "text/x-python",
   "name": "python",
   "nbconvert_exporter": "python",
   "pygments_lexer": "ipython2",
   "version": "2.7.15"
  }
 },
 "nbformat": 4,
 "nbformat_minor": 2
}
